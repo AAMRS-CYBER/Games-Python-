{
 "cells": [
  {
   "cell_type": "code",
   "execution_count": 16,
   "id": "22832d75-5f04-40f4-855a-0df522ee9e9a",
   "metadata": {},
   "outputs": [],
   "source": [
    "def Game():\n",
    "    import random\n",
    "\n",
    "# List of valid choices\n",
    "    choices = [\"red\", \"green\", \"yellow\"]\n",
    "    score = 0\n",
    "    count = 0\n",
    "\n",
    "    print(\"Welcome to the game!\")\n",
    "    print(\"Game ends when your choice matches the computer's.\\n\")\n",
    "\n",
    "# Loop to be created which ends when both your and computer response matches\n",
    "    while True:\n",
    "        play = input(\"Choose from red , green, yellow: \")\n",
    "    \n",
    "        comp = random.choice(choices)\n",
    "        count += 1\n",
    "\n",
    "        print(f\"You chose: {play}\")\n",
    "        print(f\"Computer chose: {comp}\")\n",
    "    \n",
    "# if condition used to earn point if not out and if out then loop break\n",
    "    \n",
    "        if play == comp:\n",
    "            print(\"Choices matched! You are out!\")\n",
    "            break\n",
    "        else:\n",
    "            score += 1\n",
    "            print(f\"No match! You earn 1 point. Total Score: {score}\\n\")\n",
    "\n",
    "            print(f\"\\nGame Over! Total Attempts: {count}, Your Final Score: {score}\")\n"
   ]
  },
  {
   "cell_type": "code",
   "execution_count": null,
   "id": "44654313-2f2a-433d-b891-207437ea3c38",
   "metadata": {},
   "outputs": [],
   "source": []
  }
 ],
 "metadata": {
  "kernelspec": {
   "display_name": "Python 3 (ipykernel)",
   "language": "python",
   "name": "python3"
  },
  "language_info": {
   "codemirror_mode": {
    "name": "ipython",
    "version": 3
   },
   "file_extension": ".py",
   "mimetype": "text/x-python",
   "name": "python",
   "nbconvert_exporter": "python",
   "pygments_lexer": "ipython3",
   "version": "3.12.4"
  }
 },
 "nbformat": 4,
 "nbformat_minor": 5
}
