{
 "cells": [
  {
   "cell_type": "code",
   "execution_count": 3,
   "id": "9710b02c-3a08-4ba0-9fbd-013a8826abbb",
   "metadata": {},
   "outputs": [
    {
     "name": "stdout",
     "output_type": "stream",
     "text": [
      "🎥 Rate the following movies from 1 to 10:\n",
      "\n"
     ]
    },
    {
     "name": "stdin",
     "output_type": "stream",
     "text": [
      "Rate 'Inception':  5\n",
      "Rate 'Avengers':  6\n",
      "Rate 'The Dark Knight':  7\n",
      "Rate 'Interstellar':  8\n",
      "Rate 'Parasite':  4\n"
     ]
    },
    {
     "name": "stdout",
     "output_type": "stream",
     "text": [
      "             Movie Rating\n",
      "0        Inception      5\n",
      "1         Avengers      6\n",
      "2  The Dark Knight      7\n",
      "3     Interstellar      8\n",
      "4         Parasite      4\n",
      "\n",
      "✅ Movie ratings saved to 'movie_ratings_simple.csv'\n"
     ]
    },
    {
     "name": "stderr",
     "output_type": "stream",
     "text": [
      "C:\\Users\\srisa\\anaconda3\\Lib\\site-packages\\IPython\\core\\pylabtools.py:170: UserWarning: Glyph 127916 (\\N{CLAPPER BOARD}) missing from current font.\n",
      "  fig.canvas.print_figure(bytes_io, **kw)\n"
     ]
    },
    {
     "data": {
      "image/png": "[encoded data removed]",
      "text/plain": [
       "<Figure size 800x500 with 1 Axes>"
      ]
     },
     "metadata": {},
     "output_type": "display_data"
    }
   ],
   "source": [
    "import pandas as pd\n",
    "import matplotlib.pyplot as plt\n",
    "\n",
    "# List of movies to rate\n",
    "movies = [\"Inception\", \"Avengers\", \"The Dark Knight\", \"Interstellar\", \"Parasite\"]\n",
    "\n",
    "# Dictionary to store ratings\n",
    "ratings = {}\n",
    "\n",
    "print(\"🎥 Rate the following movies from 1 to 10:\\n\")\n",
    "\n",
    "for movie in movies:\n",
    "    rating = input(f\"Rate '{movie}': \")\n",
    "    ratings[movie] = rating  # Stored as string for simplicity\n",
    "\n",
    "# Create DataFrame\n",
    "df = pd.DataFrame(list(ratings.items()), columns=[\"Movie\", \"Rating\"])\n",
    "\n",
    "# Save to CSV\n",
    "df.to_csv(\"movie_ratings_simple.csv\", index=False)\n",
    "print(\"\\n✅ Movie ratings saved to 'movie_ratings_simple.csv'\")\n",
    "\n",
    "# Convert ratings to numeric for plotting\n",
    "df[\"Rating\"] = pd.to_numeric(df[\"Rating\"], errors='coerce')\n",
    "\n",
    "# Plot\n",
    "plt.figure(figsize=(8, 5))\n",
    "plt.bar(df[\"Movie\"], df[\"Rating\"], color='orange')\n",
    "plt.title(\"🎬 Your Movie Ratings\")\n",
    "plt.xlabel(\"Movie\")\n",
    "plt.ylabel(\"Rating\")\n",
    "plt.show()\n"
   ]
  },
  {
   "cell_type": "code",
   "execution_count": 5,
   "id": "1c5cd9fd-937f-40d4-b2db-6b40f47a08db",
   "metadata": {},
   "outputs": [
    {
     "data": {
      "text/html": [
       "<div>\n",
       "<style scoped>\n",
       "    .dataframe tbody tr th:only-of-type {\n",
       "        vertical-align: middle;\n",
       "    }\n",
       "\n",
       "    .dataframe tbody tr th {\n",
       "        vertical-align: top;\n",
       "    }\n",
       "\n",
       "    .dataframe thead th {\n",
       "        text-align: right;\n",
       "    }\n",
       "</style>\n",
       "<table border=\"1\" class=\"dataframe\">\n",
       "  <thead>\n",
       "    <tr style=\"text-align: right;\">\n",
       "      <th></th>\n",
       "      <th>Movie</th>\n",
       "      <th>Rating</th>\n",
       "    </tr>\n",
       "  </thead>\n",
       "  <tbody>\n",
       "    <tr>\n",
       "      <th>0</th>\n",
       "      <td>Inception</td>\n",
       "      <td>5</td>\n",
       "    </tr>\n",
       "    <tr>\n",
       "      <th>1</th>\n",
       "      <td>Avengers</td>\n",
       "      <td>6</td>\n",
       "    </tr>\n",
       "    <tr>\n",
       "      <th>2</th>\n",
       "      <td>The Dark Knight</td>\n",
       "      <td>7</td>\n",
       "    </tr>\n",
       "    <tr>\n",
       "      <th>3</th>\n",
       "      <td>Interstellar</td>\n",
       "      <td>8</td>\n",
       "    </tr>\n",
       "    <tr>\n",
       "      <th>4</th>\n",
       "      <td>Parasite</td>\n",
       "      <td>4</td>\n",
       "    </tr>\n",
       "  </tbody>\n",
       "</table>\n",
       "</div>"
      ],
      "text/plain": [
       "             Movie  Rating\n",
       "0        Inception       5\n",
       "1         Avengers       6\n",
       "2  The Dark Knight       7\n",
       "3     Interstellar       8\n",
       "4         Parasite       4"
      ]
     },
     "execution_count": 5,
     "metadata": {},
     "output_type": "execute_result"
    }
   ],
   "source": [
    "df"
   ]
  },
  {
   "cell_type": "code",
   "execution_count": null,
   "id": "c93633d2-51fd-4656-8351-c74fee29c797",
   "metadata": {},
   "outputs": [],
   "source": []
  }
 ],
 "metadata": {
  "kernelspec": {
   "display_name": "Python 3 (ipykernel)",
   "language": "python",
   "name": "python3"
  },
  "language_info": {
   "codemirror_mode": {
    "name": "ipython",
    "version": 3
   },
   "file_extension": ".py",
   "mimetype": "text/x-python",
   "name": "python",
   "nbconvert_exporter": "python",
   "pygments_lexer": "ipython3",
   "version": "3.12.4"
  }
 },
 "nbformat": 4,
 "nbformat_minor": 5
}
